{
 "metadata": {
  "name": "",
  "signature": "sha256:7f5ea2f03768360453799f1efed2f5e47af89bd4716442795123c1a562e6348e"
 },
 "nbformat": 3,
 "nbformat_minor": 0,
 "worksheets": [
  {
   "cells": [
    {
     "cell_type": "markdown",
     "metadata": {},
     "source": [
      "**Example CSS**"
     ]
    },
    {
     "cell_type": "code",
     "collapsed": false,
     "input": [
      "ex = \"\"\"body {\n",
      "    color: blue;\n",
      "}\n",
      "\n",
      "button {\n",
      "    color: red;\n",
      "}\n",
      "\n",
      "button {\n",
      "    color: green;\n",
      "    \n",
      "}\n",
      "\n",
      "ul {\n",
      "    color: blue;\n",
      "    font-style: italic;\n",
      "}\"\"\""
     ],
     "language": "python",
     "metadata": {},
     "outputs": [],
     "prompt_number": 1
    },
    {
     "cell_type": "markdown",
     "metadata": {},
     "source": [
      "**Formatting**"
     ]
    },
    {
     "cell_type": "code",
     "collapsed": false,
     "input": [
      "ex = map(lambda x: x.strip(), ex.split('}'))[:-1]"
     ],
     "language": "python",
     "metadata": {},
     "outputs": [],
     "prompt_number": 2
    },
    {
     "cell_type": "code",
     "collapsed": false,
     "input": [
      "ex"
     ],
     "language": "python",
     "metadata": {},
     "outputs": [
      {
       "metadata": {},
       "output_type": "pyout",
       "prompt_number": 3,
       "text": [
        "['body {\\n    color: blue;',\n",
        " 'button {\\n    color: red;',\n",
        " 'button {\\n    color: green;',\n",
        " 'ul {\\n    color: blue;\\n    font-style: italic;']"
       ]
      }
     ],
     "prompt_number": 3
    },
    {
     "cell_type": "markdown",
     "metadata": {},
     "source": [
      "**Jaccard Distance** http://en.wikipedia.org/wiki/Jaccard_index"
     ]
    },
    {
     "cell_type": "code",
     "collapsed": false,
     "input": [
      "def jaccard(x,y):\n",
      "    xx, yy = x.split(' '), y.split(' ')\n",
      "    return len(set(xx).symmetric_difference(set(yy)))/float((len(xx)+len(yy)))"
     ],
     "language": "python",
     "metadata": {},
     "outputs": [],
     "prompt_number": 6
    },
    {
     "cell_type": "code",
     "collapsed": false,
     "input": [
      "jaccard(ex[1], ex[2])"
     ],
     "language": "python",
     "metadata": {},
     "outputs": [
      {
       "metadata": {},
       "output_type": "pyout",
       "prompt_number": 7,
       "text": [
        "0.14285714285714285"
       ]
      }
     ],
     "prompt_number": 7
    },
    {
     "cell_type": "markdown",
     "metadata": {},
     "source": [
      "**Hierarchical Clustering with Jaccard distance**"
     ]
    },
    {
     "cell_type": "code",
     "collapsed": false,
     "input": [
      "import numpy as np\n",
      "r = range(len(ex))\n",
      "dist_matrix = np.array([[jaccard(ex[x],ex[y]) for x in r] for y in r])"
     ],
     "language": "python",
     "metadata": {},
     "outputs": [],
     "prompt_number": 8
    },
    {
     "cell_type": "code",
     "collapsed": false,
     "input": [
      "import pandas as pd\n",
      "import fastcluster\n",
      "hcluster = pd.DataFrame(fastcluster.ward(dist_matrix))"
     ],
     "language": "python",
     "metadata": {},
     "outputs": [],
     "prompt_number": 10
    },
    {
     "cell_type": "markdown",
     "metadata": {},
     "source": [
      "**[1,2] - Cluster of the buttons at distance 0.202031**\n",
      "\n",
      "**[0,3] - Cluster of the blue colored styles at distance 0.448615**\n",
      "\n",
      "**[4,5] - Cluster of everything, very distant junction at 0.541197**"
     ]
    },
    {
     "cell_type": "code",
     "collapsed": false,
     "input": [
      "hcluster"
     ],
     "language": "python",
     "metadata": {},
     "outputs": [
      {
       "html": [
        "<div style=\"max-height:1000px;max-width:1500px;overflow:auto;\">\n",
        "<table border=\"1\" class=\"dataframe\">\n",
        "  <thead>\n",
        "    <tr style=\"text-align: right;\">\n",
        "      <th></th>\n",
        "      <th>0</th>\n",
        "      <th>1</th>\n",
        "      <th>2</th>\n",
        "      <th>3</th>\n",
        "    </tr>\n",
        "  </thead>\n",
        "  <tbody>\n",
        "    <tr>\n",
        "      <th>0</th>\n",
        "      <td> 1</td>\n",
        "      <td> 2</td>\n",
        "      <td> 0.202031</td>\n",
        "      <td> 2</td>\n",
        "    </tr>\n",
        "    <tr>\n",
        "      <th>1</th>\n",
        "      <td> 0</td>\n",
        "      <td> 3</td>\n",
        "      <td> 0.448615</td>\n",
        "      <td> 2</td>\n",
        "    </tr>\n",
        "    <tr>\n",
        "      <th>2</th>\n",
        "      <td> 4</td>\n",
        "      <td> 5</td>\n",
        "      <td> 0.541197</td>\n",
        "      <td> 4</td>\n",
        "    </tr>\n",
        "  </tbody>\n",
        "</table>\n",
        "</div>"
       ],
       "metadata": {},
       "output_type": "pyout",
       "prompt_number": 11,
       "text": [
        "   0  1         2  3\n",
        "0  1  2  0.202031  2\n",
        "1  0  3  0.448615  2\n",
        "2  4  5  0.541197  4"
       ]
      }
     ],
     "prompt_number": 11
    },
    {
     "cell_type": "markdown",
     "metadata": {},
     "source": [
      "**Draw a dendrogram**\n"
     ]
    },
    {
     "cell_type": "code",
     "collapsed": false,
     "input": [
      "from scipy.cluster.hierarchy import dendrogram"
     ],
     "language": "python",
     "metadata": {},
     "outputs": [],
     "prompt_number": 12
    },
    {
     "cell_type": "code",
     "collapsed": false,
     "input": [
      "import matplotlib.pyplot as plt\n",
      "%matplotlib inline\n",
      "plt.show(dendrogram(hcluster))"
     ],
     "language": "python",
     "metadata": {},
     "outputs": [
      {
       "metadata": {},
       "output_type": "display_data",
       "png": "[encoded data removed]",
       "text": [
        "<matplotlib.figure.Figure at 0x7f52ac0d1290>"
       ]
      }
     ],
     "prompt_number": 13
    },
    {
     "cell_type": "markdown",
     "metadata": {},
     "source": [
      "**Label clusters**"
     ]
    },
    {
     "cell_type": "code",
     "collapsed": false,
     "input": [
      "ex = map(lambda x: [x]+[0], ex)\n",
      "ex = pd.DataFrame(ex, columns=['css', 'labels'])\n",
      "ex.ix[hcluster.ix[0, [0,1]], 'labels'] = 'button'   #first cluster\n",
      "ex.ix[hcluster.ix[1, [0,1]], 'labels'] = 'blue'     #second cluster"
     ],
     "language": "python",
     "metadata": {},
     "outputs": [],
     "prompt_number": 14
    },
    {
     "cell_type": "code",
     "collapsed": false,
     "input": [
      "ex"
     ],
     "language": "python",
     "metadata": {},
     "outputs": [
      {
       "html": [
        "<div style=\"max-height:1000px;max-width:1500px;overflow:auto;\">\n",
        "<table border=\"1\" class=\"dataframe\">\n",
        "  <thead>\n",
        "    <tr style=\"text-align: right;\">\n",
        "      <th></th>\n",
        "      <th>css</th>\n",
        "      <th>labels</th>\n",
        "    </tr>\n",
        "  </thead>\n",
        "  <tbody>\n",
        "    <tr>\n",
        "      <th>0</th>\n",
        "      <td>                        body {\\n    color: blue;</td>\n",
        "      <td>   blue</td>\n",
        "    </tr>\n",
        "    <tr>\n",
        "      <th>1</th>\n",
        "      <td>                       button {\\n    color: red;</td>\n",
        "      <td> button</td>\n",
        "    </tr>\n",
        "    <tr>\n",
        "      <th>2</th>\n",
        "      <td>                     button {\\n    color: green;</td>\n",
        "      <td> button</td>\n",
        "    </tr>\n",
        "    <tr>\n",
        "      <th>3</th>\n",
        "      <td> ul {\\n    color: blue;\\n    font-style: italic;</td>\n",
        "      <td>   blue</td>\n",
        "    </tr>\n",
        "  </tbody>\n",
        "</table>\n",
        "</div>"
       ],
       "metadata": {},
       "output_type": "pyout",
       "prompt_number": 26,
       "text": [
        "                                               css  labels\n",
        "0                         body {\\n    color: blue;    blue\n",
        "1                        button {\\n    color: red;  button\n",
        "2                      button {\\n    color: green;  button\n",
        "3  ul {\\n    color: blue;\\n    font-style: italic;    blue"
       ]
      }
     ],
     "prompt_number": 26
    }
   ],
   "metadata": {}
  }
 ]
}