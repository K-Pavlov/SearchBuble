{
 "metadata": {
  "name": "",
  "signature": "sha256:1cd32ef400a623dae9eb776149627a2fcb48ca9b63e4d89de751d413dfd857ce"
 },
 "nbformat": 3,
 "nbformat_minor": 0,
 "worksheets": [
  {
   "cells": [
    {
     "cell_type": "code",
     "collapsed": false,
     "input": [
      "a = \"\"\"body {\n",
      "    color: blue;\n",
      "}\n",
      "\n",
      "button {\n",
      "    color: red;\n",
      "}\n",
      "\n",
      "button {\n",
      "    color: green;\n",
      "    \n",
      "}\n",
      "\n",
      "ul {\n",
      "    color: green;\n",
      "    font-style: italic;\n",
      "}\"\"\""
     ],
     "language": "python",
     "metadata": {},
     "outputs": [],
     "prompt_number": 100
    },
    {
     "cell_type": "code",
     "collapsed": false,
     "input": [
      "import re\n",
      "a = map(lambda x: x.strip(), a.split('}'))[:-1]"
     ],
     "language": "python",
     "metadata": {},
     "outputs": [],
     "prompt_number": 101
    },
    {
     "cell_type": "code",
     "collapsed": false,
     "input": [
      "a"
     ],
     "language": "python",
     "metadata": {},
     "outputs": [
      {
       "metadata": {},
       "output_type": "pyout",
       "prompt_number": 102,
       "text": [
        "['body {\\n    color: blue;',\n",
        " 'button {\\n    color: red;',\n",
        " 'button {\\n    color: green;',\n",
        " 'ul {\\n    color: green;\\n    font-style: italic;']"
       ]
      }
     ],
     "prompt_number": 102
    },
    {
     "cell_type": "code",
     "collapsed": false,
     "input": [
      "set(a[0].split(' ')).symmetric_difference(set(a[1].split(' ')))"
     ],
     "language": "python",
     "metadata": {},
     "outputs": [
      {
       "metadata": {},
       "output_type": "pyout",
       "prompt_number": 45,
       "text": [
        "{'blue;', 'body', 'button', 'red;'}"
       ]
      }
     ],
     "prompt_number": 45
    },
    {
     "cell_type": "code",
     "collapsed": false,
     "input": [
      "len(a[1].split(' '))"
     ],
     "language": "python",
     "metadata": {},
     "outputs": [
      {
       "metadata": {},
       "output_type": "pyout",
       "prompt_number": 52,
       "text": [
        "7"
       ]
      }
     ],
     "prompt_number": 52
    },
    {
     "cell_type": "code",
     "collapsed": false,
     "input": [
      "def jaccard(x,y):\n",
      "    xx,yy = x.split(' '), y.split(' ')\n",
      "    return len(set(xx).symmetric_difference(set(yy)))/float((len(xx)+len(yy)))"
     ],
     "language": "python",
     "metadata": {},
     "outputs": [],
     "prompt_number": 65
    },
    {
     "cell_type": "code",
     "collapsed": false,
     "input": [
      "jaccard(a[1], a[2])"
     ],
     "language": "python",
     "metadata": {},
     "outputs": [
      {
       "metadata": {},
       "output_type": "pyout",
       "prompt_number": 66,
       "text": [
        "0.14285714285714285"
       ]
      }
     ],
     "prompt_number": 66
    },
    {
     "cell_type": "code",
     "collapsed": false,
     "input": [
      "from sklearn.cluster import AgglomerativeClustering as AC"
     ],
     "language": "python",
     "metadata": {},
     "outputs": [],
     "prompt_number": 103
    },
    {
     "cell_type": "code",
     "collapsed": false,
     "input": [
      "import numpy as np\n",
      "r = range(len(a))\n",
      "dist_matrix = np.array([[jaccard(a[x],a[y]) for x in r] for y in r])"
     ],
     "language": "python",
     "metadata": {},
     "outputs": [],
     "prompt_number": 104
    },
    {
     "cell_type": "code",
     "collapsed": false,
     "input": [
      "clusters = AC(affinity='precomputed', linkage='average').fit(dist_matrix)"
     ],
     "language": "python",
     "metadata": {},
     "outputs": [],
     "prompt_number": 105
    },
    {
     "cell_type": "markdown",
     "metadata": {},
     "source": [
      "[1,2] - Cluster of the green and red buttons\n",
      "\n",
      "\n",
      "[0,4] - Cluster of the blue body with the red and green buttons\n",
      "\n",
      "\n",
      "[3,5] - Cluster of the list with everything else (very distant junction)"
     ]
    },
    {
     "cell_type": "code",
     "collapsed": false,
     "input": [
      "clusters.children_"
     ],
     "language": "python",
     "metadata": {},
     "outputs": [
      {
       "metadata": {},
       "output_type": "pyout",
       "prompt_number": 106,
       "text": [
        "array([[1, 2],\n",
        "       [0, 4],\n",
        "       [3, 5]])"
       ]
      }
     ],
     "prompt_number": 106
    }
   ],
   "metadata": {}
  }
 ]
}